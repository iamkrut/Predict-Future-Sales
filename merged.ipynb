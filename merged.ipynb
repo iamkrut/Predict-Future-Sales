{
 "cells": [
  {
   "cell_type": "code",
   "execution_count": 1,
   "metadata": {},
   "outputs": [],
   "source": [
    "import numpy as np\n",
    "import pandas as pd\n",
    "import matplotlib.pyplot as plt\n",
    "\n",
    "\n",
    "from numpy import loadtxt\n",
    "from sklearn import preprocessing\n",
    "\n"
   ]
  },
  {
   "cell_type": "code",
   "execution_count": 4,
   "metadata": {},
   "outputs": [],
   "source": [
    "sales_train = pd.read_csv('sales_train.csv.gz')\n",
    "items = pd.read_csv('items.csv')\n",
    "shops = pd.read_csv('shops.csv')\n",
    "item_categories = pd.read_csv('item_categories.csv')\n",
    "test = pd.read_csv('test.csv.gz')"
   ]
  },
  {
   "cell_type": "code",
   "execution_count": 5,
   "metadata": {},
   "outputs": [
    {
     "data": {
      "text/html": [
       "<div>\n",
       "<style scoped>\n",
       "    .dataframe tbody tr th:only-of-type {\n",
       "        vertical-align: middle;\n",
       "    }\n",
       "\n",
       "    .dataframe tbody tr th {\n",
       "        vertical-align: top;\n",
       "    }\n",
       "\n",
       "    .dataframe thead th {\n",
       "        text-align: right;\n",
       "    }\n",
       "</style>\n",
       "<table border=\"1\" class=\"dataframe\">\n",
       "  <thead>\n",
       "    <tr style=\"text-align: right;\">\n",
       "      <th></th>\n",
       "      <th>shop_id</th>\n",
       "      <th>item_id</th>\n",
       "      <th>date_block_num</th>\n",
       "      <th>item_cnt_month</th>\n",
       "      <th>item_price</th>\n",
       "      <th>item_category_id</th>\n",
       "    </tr>\n",
       "  </thead>\n",
       "  <tbody>\n",
       "    <tr>\n",
       "      <th>0</th>\n",
       "      <td>59</td>\n",
       "      <td>22154</td>\n",
       "      <td>0</td>\n",
       "      <td>1.0</td>\n",
       "      <td>999.0</td>\n",
       "      <td>37</td>\n",
       "    </tr>\n",
       "    <tr>\n",
       "      <th>1</th>\n",
       "      <td>25</td>\n",
       "      <td>22154</td>\n",
       "      <td>0</td>\n",
       "      <td>5.0</td>\n",
       "      <td>999.0</td>\n",
       "      <td>37</td>\n",
       "    </tr>\n",
       "    <tr>\n",
       "      <th>2</th>\n",
       "      <td>24</td>\n",
       "      <td>22154</td>\n",
       "      <td>0</td>\n",
       "      <td>1.0</td>\n",
       "      <td>999.0</td>\n",
       "      <td>37</td>\n",
       "    </tr>\n",
       "    <tr>\n",
       "      <th>3</th>\n",
       "      <td>23</td>\n",
       "      <td>22154</td>\n",
       "      <td>0</td>\n",
       "      <td>0.0</td>\n",
       "      <td>NaN</td>\n",
       "      <td>37</td>\n",
       "    </tr>\n",
       "    <tr>\n",
       "      <th>4</th>\n",
       "      <td>19</td>\n",
       "      <td>22154</td>\n",
       "      <td>0</td>\n",
       "      <td>0.0</td>\n",
       "      <td>NaN</td>\n",
       "      <td>37</td>\n",
       "    </tr>\n",
       "  </tbody>\n",
       "</table>\n",
       "</div>"
      ],
      "text/plain": [
       "   shop_id  item_id  date_block_num  item_cnt_month  item_price  \\\n",
       "0       59    22154               0             1.0       999.0   \n",
       "1       25    22154               0             5.0       999.0   \n",
       "2       24    22154               0             1.0       999.0   \n",
       "3       23    22154               0             0.0         NaN   \n",
       "4       19    22154               0             0.0         NaN   \n",
       "\n",
       "   item_category_id  \n",
       "0                37  \n",
       "1                37  \n",
       "2                37  \n",
       "3                37  \n",
       "4                37  "
      ]
     },
     "execution_count": 5,
     "metadata": {},
     "output_type": "execute_result"
    }
   ],
   "source": [
    "# For every month we create a grid from all shops/items combinations from that month\n",
    "grid = []\n",
    "for block_num in sales_train['date_block_num'].unique():\n",
    "    cur_shops = sales_train[sales_train['date_block_num']==block_num]['shop_id'].unique()\n",
    "    cur_items = sales_train[sales_train['date_block_num']==block_num]['item_id'].unique()\n",
    "    grid.append(np.array(list(product(*[cur_shops, cur_items, [block_num]])),dtype='int32'))\n",
    "index_cols = ['shop_id', 'item_id', 'date_block_num']\n",
    "grid = pd.DataFrame(np.vstack(grid), columns = index_cols,dtype=np.int32)\n",
    "\n",
    "# Aggregations\n",
    "sales_train['item_cnt_day'] = sales_train['item_cnt_day'].clip(0,20)\n",
    "groups = sales_train.groupby(['shop_id', 'item_id', 'date_block_num'])\n",
    "trainset = groups.agg({'item_cnt_day':'sum', 'item_price':'mean'}).reset_index()\n",
    "trainset = trainset.rename(columns = {'item_cnt_day' : 'item_cnt_month'})\n",
    "trainset['item_cnt_month'] = trainset['item_cnt_month'].clip(0,20)\n",
    "\n",
    "trainset = pd.merge(grid,trainset,how='left',on=index_cols)\n",
    "trainset.item_cnt_month = trainset.item_cnt_month.fillna(0)\n",
    "\n",
    "# Get category id\n",
    "trainset = pd.merge(trainset, items[['item_id', 'item_category_id']], on = 'item_id')\n",
    "#trainset.to_csv('trainset_with_grid.csv')\n",
    "\n",
    "trainset.head()"
   ]
  },
  {
   "cell_type": "code",
   "execution_count": 16,
   "metadata": {},
   "outputs": [
    {
     "data": {
      "text/plain": [
       "ID                    0\n",
       "item_cnt_month    16102\n",
       "date_block_num    16102\n",
       "dtype: int64"
      ]
     },
     "execution_count": 16,
     "metadata": {},
     "output_type": "execute_result"
    }
   ],
   "source": [
    "merged = test.merge(trainset, on=[\"shop_id\", \"item_id\"], how=\"left\")[[\"ID\", \"item_cnt_month\",\"date_block_num\"]]\n",
    "merged.isna().sum()"
   ]
  },
  {
   "cell_type": "code",
   "execution_count": 20,
   "metadata": {},
   "outputs": [],
   "source": [
    "merged['item_cnt_month'] = merged.item_cnt_month.fillna(0).clip(0,20)\n",
    "merged['date_block_num'] = merged.date_block_num.fillna(0)"
   ]
  },
  {
   "cell_type": "code",
   "execution_count": 22,
   "metadata": {},
   "outputs": [
    {
     "data": {
      "text/html": [
       "<div>\n",
       "<style scoped>\n",
       "    .dataframe tbody tr th:only-of-type {\n",
       "        vertical-align: middle;\n",
       "    }\n",
       "\n",
       "    .dataframe tbody tr th {\n",
       "        vertical-align: top;\n",
       "    }\n",
       "\n",
       "    .dataframe thead th {\n",
       "        text-align: right;\n",
       "    }\n",
       "</style>\n",
       "<table border=\"1\" class=\"dataframe\">\n",
       "  <thead>\n",
       "    <tr style=\"text-align: right;\">\n",
       "      <th></th>\n",
       "      <th>ID</th>\n",
       "      <th>item_cnt_month</th>\n",
       "      <th>date_block_num</th>\n",
       "    </tr>\n",
       "  </thead>\n",
       "  <tbody>\n",
       "    <tr>\n",
       "      <th>0</th>\n",
       "      <td>0</td>\n",
       "      <td>1.0</td>\n",
       "      <td>20.0</td>\n",
       "    </tr>\n",
       "    <tr>\n",
       "      <th>1</th>\n",
       "      <td>0</td>\n",
       "      <td>0.0</td>\n",
       "      <td>21.0</td>\n",
       "    </tr>\n",
       "    <tr>\n",
       "      <th>2</th>\n",
       "      <td>0</td>\n",
       "      <td>1.0</td>\n",
       "      <td>22.0</td>\n",
       "    </tr>\n",
       "    <tr>\n",
       "      <th>3</th>\n",
       "      <td>0</td>\n",
       "      <td>2.0</td>\n",
       "      <td>23.0</td>\n",
       "    </tr>\n",
       "    <tr>\n",
       "      <th>4</th>\n",
       "      <td>0</td>\n",
       "      <td>2.0</td>\n",
       "      <td>24.0</td>\n",
       "    </tr>\n",
       "  </tbody>\n",
       "</table>\n",
       "</div>"
      ],
      "text/plain": [
       "   ID  item_cnt_month  date_block_num\n",
       "0   0             1.0            20.0\n",
       "1   0             0.0            21.0\n",
       "2   0             1.0            22.0\n",
       "3   0             2.0            23.0\n",
       "4   0             2.0            24.0"
      ]
     },
     "execution_count": 22,
     "metadata": {},
     "output_type": "execute_result"
    }
   ],
   "source": [
    "merged.head()"
   ]
  },
  {
   "cell_type": "code",
   "execution_count": 23,
   "metadata": {},
   "outputs": [],
   "source": [
    "df2 = merged.set_index('ID')"
   ]
  },
  {
   "cell_type": "code",
   "execution_count": 28,
   "metadata": {},
   "outputs": [],
   "source": [
    "df3 = df2.pivot_table(index='ID', columns='date_block_num',values='item_cnt_month',fill_value=0).reset_index()"
   ]
  },
  {
   "cell_type": "code",
   "execution_count": 29,
   "metadata": {},
   "outputs": [],
   "source": [
    "df3 = df3.T.rename(columns=df3.T.iloc[0])"
   ]
  },
  {
   "cell_type": "code",
   "execution_count": 30,
   "metadata": {},
   "outputs": [],
   "source": [
    "df4 = df3.drop(df3.index[0])"
   ]
  },
  {
   "cell_type": "code",
   "execution_count": 33,
   "metadata": {},
   "outputs": [
    {
     "data": {
      "text/plain": [
       "(34, 214200)"
      ]
     },
     "execution_count": 33,
     "metadata": {},
     "output_type": "execute_result"
    }
   ],
   "source": [
    "df4.shape"
   ]
  },
  {
   "cell_type": "code",
   "execution_count": 34,
   "metadata": {},
   "outputs": [],
   "source": [
    "import numpy as np \n",
    "mu, sigma = 0, 0.1 \n",
    "# creating a noise with the same dimension as the dataset (2,2) \n",
    "noise = np.random.normal(mu, sigma, [34,214200]) "
   ]
  },
  {
   "cell_type": "code",
   "execution_count": 35,
   "metadata": {},
   "outputs": [],
   "source": [
    "df5 = df4 + noise"
   ]
  },
  {
   "cell_type": "code",
   "execution_count": 36,
   "metadata": {},
   "outputs": [
    {
     "data": {
      "text/html": [
       "<div>\n",
       "<style scoped>\n",
       "    .dataframe tbody tr th:only-of-type {\n",
       "        vertical-align: middle;\n",
       "    }\n",
       "\n",
       "    .dataframe tbody tr th {\n",
       "        vertical-align: top;\n",
       "    }\n",
       "\n",
       "    .dataframe thead th {\n",
       "        text-align: right;\n",
       "    }\n",
       "</style>\n",
       "<table border=\"1\" class=\"dataframe\">\n",
       "  <thead>\n",
       "    <tr style=\"text-align: right;\">\n",
       "      <th></th>\n",
       "      <th>0</th>\n",
       "      <th>1</th>\n",
       "      <th>2</th>\n",
       "      <th>3</th>\n",
       "      <th>4</th>\n",
       "      <th>5</th>\n",
       "      <th>6</th>\n",
       "      <th>7</th>\n",
       "      <th>8</th>\n",
       "      <th>9</th>\n",
       "      <th>...</th>\n",
       "      <th>214190</th>\n",
       "      <th>214191</th>\n",
       "      <th>214192</th>\n",
       "      <th>214193</th>\n",
       "      <th>214194</th>\n",
       "      <th>214195</th>\n",
       "      <th>214196</th>\n",
       "      <th>214197</th>\n",
       "      <th>214198</th>\n",
       "      <th>214199</th>\n",
       "    </tr>\n",
       "    <tr>\n",
       "      <th>date_block_num</th>\n",
       "      <th></th>\n",
       "      <th></th>\n",
       "      <th></th>\n",
       "      <th></th>\n",
       "      <th></th>\n",
       "      <th></th>\n",
       "      <th></th>\n",
       "      <th></th>\n",
       "      <th></th>\n",
       "      <th></th>\n",
       "      <th></th>\n",
       "      <th></th>\n",
       "      <th></th>\n",
       "      <th></th>\n",
       "      <th></th>\n",
       "      <th></th>\n",
       "      <th></th>\n",
       "      <th></th>\n",
       "      <th></th>\n",
       "      <th></th>\n",
       "      <th></th>\n",
       "    </tr>\n",
       "  </thead>\n",
       "  <tbody>\n",
       "    <tr>\n",
       "      <th>0.0</th>\n",
       "      <td>-0.013107</td>\n",
       "      <td>-0.095425</td>\n",
       "      <td>-0.130355</td>\n",
       "      <td>0.083844</td>\n",
       "      <td>0.078585</td>\n",
       "      <td>0.027471</td>\n",
       "      <td>-0.042934</td>\n",
       "      <td>0.223929</td>\n",
       "      <td>0.055958</td>\n",
       "      <td>0.066267</td>\n",
       "      <td>...</td>\n",
       "      <td>0.020026</td>\n",
       "      <td>-0.100037</td>\n",
       "      <td>0.080087</td>\n",
       "      <td>-0.150727</td>\n",
       "      <td>-0.024092</td>\n",
       "      <td>-0.175722</td>\n",
       "      <td>0.046510</td>\n",
       "      <td>1.083612</td>\n",
       "      <td>0.250681</td>\n",
       "      <td>-0.161345</td>\n",
       "    </tr>\n",
       "    <tr>\n",
       "      <th>1.0</th>\n",
       "      <td>0.151969</td>\n",
       "      <td>0.000410</td>\n",
       "      <td>-0.008267</td>\n",
       "      <td>0.090551</td>\n",
       "      <td>-0.154233</td>\n",
       "      <td>0.253315</td>\n",
       "      <td>0.046981</td>\n",
       "      <td>-0.119474</td>\n",
       "      <td>0.042183</td>\n",
       "      <td>-0.073796</td>\n",
       "      <td>...</td>\n",
       "      <td>-0.120867</td>\n",
       "      <td>0.132647</td>\n",
       "      <td>-0.073126</td>\n",
       "      <td>-0.033542</td>\n",
       "      <td>0.157207</td>\n",
       "      <td>-0.139764</td>\n",
       "      <td>0.203197</td>\n",
       "      <td>0.033239</td>\n",
       "      <td>-0.095252</td>\n",
       "      <td>0.027784</td>\n",
       "    </tr>\n",
       "    <tr>\n",
       "      <th>2.0</th>\n",
       "      <td>-0.006579</td>\n",
       "      <td>-0.129019</td>\n",
       "      <td>0.006111</td>\n",
       "      <td>0.012899</td>\n",
       "      <td>0.020401</td>\n",
       "      <td>-0.079719</td>\n",
       "      <td>-0.094381</td>\n",
       "      <td>0.200824</td>\n",
       "      <td>-0.081912</td>\n",
       "      <td>0.072934</td>\n",
       "      <td>...</td>\n",
       "      <td>0.178359</td>\n",
       "      <td>0.048349</td>\n",
       "      <td>-0.069107</td>\n",
       "      <td>0.060825</td>\n",
       "      <td>0.031685</td>\n",
       "      <td>0.040595</td>\n",
       "      <td>0.010952</td>\n",
       "      <td>0.112912</td>\n",
       "      <td>0.127312</td>\n",
       "      <td>-0.010008</td>\n",
       "    </tr>\n",
       "    <tr>\n",
       "      <th>3.0</th>\n",
       "      <td>0.020439</td>\n",
       "      <td>-0.120928</td>\n",
       "      <td>-0.005112</td>\n",
       "      <td>0.084592</td>\n",
       "      <td>-0.046742</td>\n",
       "      <td>-0.030941</td>\n",
       "      <td>0.091957</td>\n",
       "      <td>-0.024039</td>\n",
       "      <td>0.033376</td>\n",
       "      <td>-0.026685</td>\n",
       "      <td>...</td>\n",
       "      <td>0.141253</td>\n",
       "      <td>-0.058953</td>\n",
       "      <td>-0.051087</td>\n",
       "      <td>0.179955</td>\n",
       "      <td>-0.037174</td>\n",
       "      <td>-0.002063</td>\n",
       "      <td>0.000831</td>\n",
       "      <td>0.230507</td>\n",
       "      <td>-0.067478</td>\n",
       "      <td>0.157095</td>\n",
       "    </tr>\n",
       "    <tr>\n",
       "      <th>4.0</th>\n",
       "      <td>-0.114417</td>\n",
       "      <td>-0.001081</td>\n",
       "      <td>-0.007695</td>\n",
       "      <td>-0.130692</td>\n",
       "      <td>-0.055356</td>\n",
       "      <td>0.091114</td>\n",
       "      <td>0.090793</td>\n",
       "      <td>-0.061955</td>\n",
       "      <td>-0.066449</td>\n",
       "      <td>-0.067903</td>\n",
       "      <td>...</td>\n",
       "      <td>-0.010347</td>\n",
       "      <td>0.188408</td>\n",
       "      <td>-0.105998</td>\n",
       "      <td>-0.036745</td>\n",
       "      <td>0.070558</td>\n",
       "      <td>0.220087</td>\n",
       "      <td>0.026382</td>\n",
       "      <td>-0.112272</td>\n",
       "      <td>0.151318</td>\n",
       "      <td>0.042860</td>\n",
       "    </tr>\n",
       "  </tbody>\n",
       "</table>\n",
       "<p>5 rows × 214200 columns</p>\n",
       "</div>"
      ],
      "text/plain": [
       "                  0         1         2         3         4         5       \\\n",
       "date_block_num                                                               \n",
       "0.0            -0.013107 -0.095425 -0.130355  0.083844  0.078585  0.027471   \n",
       "1.0             0.151969  0.000410 -0.008267  0.090551 -0.154233  0.253315   \n",
       "2.0            -0.006579 -0.129019  0.006111  0.012899  0.020401 -0.079719   \n",
       "3.0             0.020439 -0.120928 -0.005112  0.084592 -0.046742 -0.030941   \n",
       "4.0            -0.114417 -0.001081 -0.007695 -0.130692 -0.055356  0.091114   \n",
       "\n",
       "                  6         7         8         9       ...    214190  \\\n",
       "date_block_num                                          ...             \n",
       "0.0            -0.042934  0.223929  0.055958  0.066267  ...  0.020026   \n",
       "1.0             0.046981 -0.119474  0.042183 -0.073796  ... -0.120867   \n",
       "2.0            -0.094381  0.200824 -0.081912  0.072934  ...  0.178359   \n",
       "3.0             0.091957 -0.024039  0.033376 -0.026685  ...  0.141253   \n",
       "4.0             0.090793 -0.061955 -0.066449 -0.067903  ... -0.010347   \n",
       "\n",
       "                  214191    214192    214193    214194    214195    214196  \\\n",
       "date_block_num                                                               \n",
       "0.0            -0.100037  0.080087 -0.150727 -0.024092 -0.175722  0.046510   \n",
       "1.0             0.132647 -0.073126 -0.033542  0.157207 -0.139764  0.203197   \n",
       "2.0             0.048349 -0.069107  0.060825  0.031685  0.040595  0.010952   \n",
       "3.0            -0.058953 -0.051087  0.179955 -0.037174 -0.002063  0.000831   \n",
       "4.0             0.188408 -0.105998 -0.036745  0.070558  0.220087  0.026382   \n",
       "\n",
       "                  214197    214198    214199  \n",
       "date_block_num                                \n",
       "0.0             1.083612  0.250681 -0.161345  \n",
       "1.0             0.033239 -0.095252  0.027784  \n",
       "2.0             0.112912  0.127312 -0.010008  \n",
       "3.0             0.230507 -0.067478  0.157095  \n",
       "4.0            -0.112272  0.151318  0.042860  \n",
       "\n",
       "[5 rows x 214200 columns]"
      ]
     },
     "execution_count": 36,
     "metadata": {},
     "output_type": "execute_result"
    }
   ],
   "source": [
    "df5.head()"
   ]
  },
  {
   "cell_type": "code",
   "execution_count": 52,
   "metadata": {},
   "outputs": [
    {
     "data": {
      "image/png": "[encoded data removed]",
      "text/plain": [
       "<Figure size 432x288 with 1 Axes>"
      ]
     },
     "metadata": {
      "needs_background": "light"
     },
     "output_type": "display_data"
    }
   ],
   "source": [
    "import matplotlib.pyplot as plt\n",
    "plt.plot(df5[51102])\n",
    "plt.plot(df4[51102])\n",
    "plt.show()"
   ]
  },
  {
   "cell_type": "code",
   "execution_count": 54,
   "metadata": {},
   "outputs": [],
   "source": [
    "import tensorflow as tf\n",
    "import numpy as np\n",
    "import pandas as pd\n",
    "from tensorflow import keras\n",
    "import matplotlib.pyplot as plt\n",
    "import os\n",
    "from sklearn.preprocessing import MinMaxScaler\n",
    "from tensorflow.python.keras.models import Sequential\n",
    "from tensorflow.python.keras.layers import Input, Dense, GRU, LSTM, Embedding\n",
    "from tensorflow.python.keras.optimizers import RMSprop\n",
    "from tensorflow.python.keras.callbacks import EarlyStopping, ModelCheckpoint, TensorBoard, ReduceLROnPlateau"
   ]
  },
  {
   "cell_type": "code",
   "execution_count": 55,
   "metadata": {},
   "outputs": [],
   "source": [
    "df = df5"
   ]
  },
  {
   "cell_type": "code",
   "execution_count": 117,
   "metadata": {},
   "outputs": [],
   "source": [
    "target = 51102"
   ]
  },
  {
   "cell_type": "code",
   "execution_count": 118,
   "metadata": {},
   "outputs": [],
   "source": [
    "shift_time = 1\n",
    "shift_steps = shift_time * 1 \n",
    "\n",
    "df_targets = df[target].shift(-shift_steps)"
   ]
  },
  {
   "cell_type": "code",
   "execution_count": 119,
   "metadata": {},
   "outputs": [
    {
     "name": "stdout",
     "output_type": "stream",
     "text": [
      "date_block_num\n",
      "29.0    0.145309\n",
      "30.0   -0.165442\n",
      "31.0    2.156632\n",
      "32.0   -0.083777\n",
      "33.0         NaN\n",
      "Name: 51102, dtype: float64\n"
     ]
    }
   ],
   "source": [
    "print(df_targets.tail())"
   ]
  },
  {
   "cell_type": "code",
   "execution_count": 120,
   "metadata": {},
   "outputs": [
    {
     "name": "stdout",
     "output_type": "stream",
     "text": [
      "<class 'numpy.ndarray'>\n",
      "Shape: (33, 214200)\n"
     ]
    }
   ],
   "source": [
    "x_data = df.values[0:-shift_steps]\n",
    "print(type(x_data))\n",
    "print(\"Shape:\", x_data.shape)"
   ]
  },
  {
   "cell_type": "code",
   "execution_count": 121,
   "metadata": {},
   "outputs": [
    {
     "name": "stdout",
     "output_type": "stream",
     "text": [
      "<class 'numpy.ndarray'>\n",
      "Shape: (33,)\n"
     ]
    }
   ],
   "source": [
    "y_data = df_targets.values[:-shift_steps]\n",
    "\n",
    "print(type(y_data))\n",
    "print(\"Shape:\", y_data.shape)"
   ]
  },
  {
   "cell_type": "code",
   "execution_count": 122,
   "metadata": {},
   "outputs": [
    {
     "name": "stdout",
     "output_type": "stream",
     "text": [
      "33\n"
     ]
    }
   ],
   "source": [
    "num_data = len(x_data)\n",
    "print(num_data)"
   ]
  },
  {
   "cell_type": "code",
   "execution_count": 123,
   "metadata": {},
   "outputs": [],
   "source": [
    "train_split = 0.8"
   ]
  },
  {
   "cell_type": "code",
   "execution_count": 124,
   "metadata": {},
   "outputs": [
    {
     "name": "stdout",
     "output_type": "stream",
     "text": [
      "26\n",
      "7\n"
     ]
    }
   ],
   "source": [
    "num_train = int(train_split * num_data)\n",
    "print(num_train)\n",
    "\n",
    "num_test = num_data - num_train\n",
    "print(num_test)"
   ]
  },
  {
   "cell_type": "code",
   "execution_count": 125,
   "metadata": {},
   "outputs": [
    {
     "name": "stdout",
     "output_type": "stream",
     "text": [
      "33\n",
      "33\n"
     ]
    }
   ],
   "source": [
    "x_train = x_data[0:num_train]\n",
    "x_test = x_data[num_train:]\n",
    "print(len(x_train) + len(x_test))\n",
    "\n",
    "\n",
    "y_train = y_data[0:num_train]\n",
    "y_test = y_data[num_train:]\n",
    "print(len(y_train) + len(y_test))"
   ]
  },
  {
   "cell_type": "code",
   "execution_count": 126,
   "metadata": {},
   "outputs": [
    {
     "data": {
      "text/plain": [
       "array([[ 0.13335698, -0.00913257,  0.0532113 , ...,  0.28440044,\n",
       "         0.12513282, -0.07284941],\n",
       "       [ 0.1079965 , -0.08114168, -0.04659654, ..., -0.16887047,\n",
       "         0.03274957, -0.03748416],\n",
       "       [ 1.11316043,  0.12111417,  2.9491988 , ...,  0.2388759 ,\n",
       "        -0.04671523,  0.31926926],\n",
       "       ...,\n",
       "       [ 1.20376965,  0.13583722,  0.03126273, ..., -0.04920088,\n",
       "        -0.03135796, -0.17905316],\n",
       "       [ 3.10837143, -0.0743335 ,  0.91605552, ...,  0.19260391,\n",
       "        -0.02032363,  0.05743809],\n",
       "       [ 1.04327585, -0.17154087,  3.03964356, ...,  0.10762691,\n",
       "         0.12637476,  0.05618182]])"
      ]
     },
     "execution_count": 126,
     "metadata": {},
     "output_type": "execute_result"
    }
   ],
   "source": [
    "x_test"
   ]
  },
  {
   "cell_type": "code",
   "execution_count": 127,
   "metadata": {},
   "outputs": [
    {
     "name": "stdout",
     "output_type": "stream",
     "text": [
      "214200\n"
     ]
    }
   ],
   "source": [
    "num_x_signals = x_data.shape[1]\n",
    "print(num_x_signals)"
   ]
  },
  {
   "cell_type": "code",
   "execution_count": 128,
   "metadata": {},
   "outputs": [
    {
     "name": "stdout",
     "output_type": "stream",
     "text": [
      "33\n"
     ]
    }
   ],
   "source": [
    "num_y_signals = y_data.shape[0]\n",
    "print(num_y_signals)"
   ]
  },
  {
   "cell_type": "code",
   "execution_count": null,
   "metadata": {},
   "outputs": [],
   "source": []
  },
  {
   "cell_type": "code",
   "execution_count": null,
   "metadata": {},
   "outputs": [],
   "source": []
  },
  {
   "cell_type": "code",
   "execution_count": null,
   "metadata": {},
   "outputs": [],
   "source": []
  },
  {
   "cell_type": "code",
   "execution_count": null,
   "metadata": {},
   "outputs": [],
   "source": []
  },
  {
   "cell_type": "code",
   "execution_count": null,
   "metadata": {},
   "outputs": [],
   "source": []
  },
  {
   "cell_type": "code",
   "execution_count": null,
   "metadata": {},
   "outputs": [],
   "source": []
  }
 ],
 "metadata": {
  "kernelspec": {
   "display_name": "Python 3",
   "language": "python",
   "name": "python3"
  },
  "language_info": {
   "codemirror_mode": {
    "name": "ipython",
    "version": 3
   },
   "file_extension": ".py",
   "mimetype": "text/x-python",
   "name": "python",
   "nbconvert_exporter": "python",
   "pygments_lexer": "ipython3",
   "version": "3.7.3"
  }
 },
 "nbformat": 4,
 "nbformat_minor": 2
}
